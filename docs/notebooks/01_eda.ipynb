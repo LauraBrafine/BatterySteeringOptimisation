{
 "cells": [
  {
   "cell_type": "code",
   "execution_count": 2,
   "id": "15905f37",
   "metadata": {},
   "outputs": [],
   "source": [
    "import pandas as pd\n",
    "import numpy as np\n",
    "from pyomo.environ import *"
   ]
  },
  {
   "cell_type": "code",
   "execution_count": 2,
   "id": "d7639701",
   "metadata": {},
   "outputs": [],
   "source": [
    "imbalance = pd.read_csv('imbalance_prices.csv')"
   ]
  },
  {
   "cell_type": "code",
   "execution_count": 3,
   "id": "f3a6293d",
   "metadata": {},
   "outputs": [
    {
     "data": {
      "application/vnd.microsoft.datawrangler.viewer.v0+json": {
       "columns": [
        {
         "name": "index",
         "rawType": "int64",
         "type": "integer"
        },
        {
         "name": "START_DATETIME_UTC",
         "rawType": "object",
         "type": "string"
        },
        {
         "name": "IMBALANCE_LONG_EUR_MWH",
         "rawType": "float64",
         "type": "float"
        },
        {
         "name": "IMBALANCE_SHORT_EUR_MWH",
         "rawType": "float64",
         "type": "float"
        }
       ],
       "ref": "14d801e4-6904-4c92-9c0d-09118fb2ecef",
       "rows": [
        [
         "0",
         "2025-05-04 22:00:00.000 Z",
         "36.76",
         "36.76"
        ],
        [
         "1",
         "2025-05-04 22:15:00.000 Z",
         "28.58",
         "28.58"
        ],
        [
         "2",
         "2025-05-04 22:30:00.000 Z",
         "28.58",
         "28.58"
        ],
        [
         "3",
         "2025-05-04 22:45:00.000 Z",
         "34.68",
         "34.68"
        ],
        [
         "4",
         "2025-05-04 23:00:00.000 Z",
         "34.58",
         "34.58"
        ],
        [
         "5",
         "2025-05-04 23:15:00.000 Z",
         "50.08",
         "50.08"
        ],
        [
         "6",
         "2025-05-04 23:30:00.000 Z",
         "66.0",
         "66.0"
        ],
        [
         "7",
         "2025-05-04 23:45:00.000 Z",
         "72.98",
         "72.98"
        ],
        [
         "8",
         "2025-05-05 00:00:00.000 Z",
         "65.5",
         "84.0"
        ],
        [
         "9",
         "2025-05-05 00:15:00.000 Z",
         "84.0",
         "84.0"
        ],
        [
         "10",
         "2025-05-05 00:30:00.000 Z",
         "78.56",
         "78.56"
        ],
        [
         "11",
         "2025-05-05 00:45:00.000 Z",
         "78.56",
         "78.56"
        ],
        [
         "12",
         "2025-05-05 01:00:00.000 Z",
         "84.0",
         "84.0"
        ],
        [
         "13",
         "2025-05-05 01:15:00.000 Z",
         "71.0",
         "71.0"
        ],
        [
         "14",
         "2025-05-05 01:30:00.000 Z",
         "72.98",
         "72.98"
        ],
        [
         "15",
         "2025-05-05 01:45:00.000 Z",
         "60.21",
         "60.21"
        ],
        [
         "16",
         "2025-05-05 02:00:00.000 Z",
         "69.88",
         "69.88"
        ],
        [
         "17",
         "2025-05-05 02:15:00.000 Z",
         "66.75",
         "66.75"
        ],
        [
         "18",
         "2025-05-05 02:30:00.000 Z",
         "56.04",
         "56.04"
        ],
        [
         "19",
         "2025-05-05 02:45:00.000 Z",
         "64.1",
         "64.1"
        ],
        [
         "20",
         "2025-05-05 03:00:00.000 Z",
         "57.08",
         "78.56"
        ],
        [
         "21",
         "2025-05-05 03:15:00.000 Z",
         "85.9",
         "85.9"
        ],
        [
         "22",
         "2025-05-05 03:30:00.000 Z",
         "90.98",
         "90.98"
        ],
        [
         "23",
         "2025-05-05 03:45:00.000 Z",
         "112.98",
         "112.98"
        ],
        [
         "24",
         "2025-05-05 04:00:00.000 Z",
         "150.34",
         "150.34"
        ],
        [
         "25",
         "2025-05-05 04:15:00.000 Z",
         "150.6",
         "150.6"
        ],
        [
         "26",
         "2025-05-05 04:30:00.000 Z",
         "86.56",
         "86.56"
        ],
        [
         "27",
         "2025-05-05 04:45:00.000 Z",
         "84.23",
         "84.23"
        ],
        [
         "28",
         "2025-05-05 05:00:00.000 Z",
         "69.98",
         "69.98"
        ],
        [
         "29",
         "2025-05-05 05:15:00.000 Z",
         "68.98",
         "68.98"
        ],
        [
         "30",
         "2025-05-05 05:30:00.000 Z",
         "65.9",
         "65.9"
        ],
        [
         "31",
         "2025-05-05 05:45:00.000 Z",
         "14.98",
         "14.98"
        ],
        [
         "32",
         "2025-05-05 06:00:00.000 Z",
         "10.0",
         "10.0"
        ],
        [
         "33",
         "2025-05-05 06:15:00.000 Z",
         "3.98",
         "3.98"
        ],
        [
         "34",
         "2025-05-05 06:30:00.000 Z",
         "-34.0",
         "-34.0"
        ],
        [
         "35",
         "2025-05-05 06:45:00.000 Z",
         "-50.0",
         "-50.0"
        ],
        [
         "36",
         "2025-05-05 07:00:00.000 Z",
         "-70.0",
         "-70.0"
        ],
        [
         "37",
         "2025-05-05 07:15:00.000 Z",
         "-60.0",
         "-60.0"
        ],
        [
         "38",
         "2025-05-05 07:30:00.000 Z",
         "-40.0",
         "-40.0"
        ],
        [
         "39",
         "2025-05-05 07:45:00.000 Z",
         "-18.5",
         "-18.5"
        ],
        [
         "40",
         "2025-05-05 08:00:00.000 Z",
         "-16.35",
         "86.36"
        ],
        [
         "41",
         "2025-05-05 08:15:00.000 Z",
         "10.0",
         "10.0"
        ],
        [
         "42",
         "2025-05-05 08:30:00.000 Z",
         "16.98",
         "16.98"
        ],
        [
         "43",
         "2025-05-05 08:45:00.000 Z",
         "10.0",
         "10.0"
        ],
        [
         "44",
         "2025-05-05 09:00:00.000 Z",
         "-20.13",
         "-20.13"
        ],
        [
         "45",
         "2025-05-05 09:15:00.000 Z",
         "-30.0",
         "-30.0"
        ],
        [
         "46",
         "2025-05-05 09:30:00.000 Z",
         "8.98",
         "8.98"
        ],
        [
         "47",
         "2025-05-05 09:45:00.000 Z",
         "-29.7",
         "-29.7"
        ],
        [
         "48",
         "2025-05-05 10:00:00.000 Z",
         "-29.26",
         "-29.26"
        ],
        [
         "49",
         "2025-05-05 10:15:00.000 Z",
         "64.98",
         "64.98"
        ]
       ],
       "shape": {
        "columns": 3,
        "rows": 672
       }
      },
      "text/html": [
       "<div>\n",
       "<style scoped>\n",
       "    .dataframe tbody tr th:only-of-type {\n",
       "        vertical-align: middle;\n",
       "    }\n",
       "\n",
       "    .dataframe tbody tr th {\n",
       "        vertical-align: top;\n",
       "    }\n",
       "\n",
       "    .dataframe thead th {\n",
       "        text-align: right;\n",
       "    }\n",
       "</style>\n",
       "<table border=\"1\" class=\"dataframe\">\n",
       "  <thead>\n",
       "    <tr style=\"text-align: right;\">\n",
       "      <th></th>\n",
       "      <th>START_DATETIME_UTC</th>\n",
       "      <th>IMBALANCE_LONG_EUR_MWH</th>\n",
       "      <th>IMBALANCE_SHORT_EUR_MWH</th>\n",
       "    </tr>\n",
       "  </thead>\n",
       "  <tbody>\n",
       "    <tr>\n",
       "      <th>0</th>\n",
       "      <td>2025-05-04 22:00:00.000 Z</td>\n",
       "      <td>36.76</td>\n",
       "      <td>36.76</td>\n",
       "    </tr>\n",
       "    <tr>\n",
       "      <th>1</th>\n",
       "      <td>2025-05-04 22:15:00.000 Z</td>\n",
       "      <td>28.58</td>\n",
       "      <td>28.58</td>\n",
       "    </tr>\n",
       "    <tr>\n",
       "      <th>2</th>\n",
       "      <td>2025-05-04 22:30:00.000 Z</td>\n",
       "      <td>28.58</td>\n",
       "      <td>28.58</td>\n",
       "    </tr>\n",
       "    <tr>\n",
       "      <th>3</th>\n",
       "      <td>2025-05-04 22:45:00.000 Z</td>\n",
       "      <td>34.68</td>\n",
       "      <td>34.68</td>\n",
       "    </tr>\n",
       "    <tr>\n",
       "      <th>4</th>\n",
       "      <td>2025-05-04 23:00:00.000 Z</td>\n",
       "      <td>34.58</td>\n",
       "      <td>34.58</td>\n",
       "    </tr>\n",
       "    <tr>\n",
       "      <th>...</th>\n",
       "      <td>...</td>\n",
       "      <td>...</td>\n",
       "      <td>...</td>\n",
       "    </tr>\n",
       "    <tr>\n",
       "      <th>667</th>\n",
       "      <td>2025-05-11 20:45:00.000 Z</td>\n",
       "      <td>54.57</td>\n",
       "      <td>54.57</td>\n",
       "    </tr>\n",
       "    <tr>\n",
       "      <th>668</th>\n",
       "      <td>2025-05-11 21:00:00.000 Z</td>\n",
       "      <td>63.00</td>\n",
       "      <td>149.40</td>\n",
       "    </tr>\n",
       "    <tr>\n",
       "      <th>669</th>\n",
       "      <td>2025-05-11 21:15:00.000 Z</td>\n",
       "      <td>60.57</td>\n",
       "      <td>101.70</td>\n",
       "    </tr>\n",
       "    <tr>\n",
       "      <th>670</th>\n",
       "      <td>2025-05-11 21:30:00.000 Z</td>\n",
       "      <td>60.12</td>\n",
       "      <td>111.00</td>\n",
       "    </tr>\n",
       "    <tr>\n",
       "      <th>671</th>\n",
       "      <td>2025-05-11 21:45:00.000 Z</td>\n",
       "      <td>35.00</td>\n",
       "      <td>78.56</td>\n",
       "    </tr>\n",
       "  </tbody>\n",
       "</table>\n",
       "<p>672 rows × 3 columns</p>\n",
       "</div>"
      ],
      "text/plain": [
       "            START_DATETIME_UTC  IMBALANCE_LONG_EUR_MWH  \\\n",
       "0    2025-05-04 22:00:00.000 Z                   36.76   \n",
       "1    2025-05-04 22:15:00.000 Z                   28.58   \n",
       "2    2025-05-04 22:30:00.000 Z                   28.58   \n",
       "3    2025-05-04 22:45:00.000 Z                   34.68   \n",
       "4    2025-05-04 23:00:00.000 Z                   34.58   \n",
       "..                         ...                     ...   \n",
       "667  2025-05-11 20:45:00.000 Z                   54.57   \n",
       "668  2025-05-11 21:00:00.000 Z                   63.00   \n",
       "669  2025-05-11 21:15:00.000 Z                   60.57   \n",
       "670  2025-05-11 21:30:00.000 Z                   60.12   \n",
       "671  2025-05-11 21:45:00.000 Z                   35.00   \n",
       "\n",
       "     IMBALANCE_SHORT_EUR_MWH  \n",
       "0                      36.76  \n",
       "1                      28.58  \n",
       "2                      28.58  \n",
       "3                      34.68  \n",
       "4                      34.58  \n",
       "..                       ...  \n",
       "667                    54.57  \n",
       "668                   149.40  \n",
       "669                   101.70  \n",
       "670                   111.00  \n",
       "671                    78.56  \n",
       "\n",
       "[672 rows x 3 columns]"
      ]
     },
     "execution_count": 3,
     "metadata": {},
     "output_type": "execute_result"
    }
   ],
   "source": [
    "imbalance"
   ]
  },
  {
   "cell_type": "code",
   "execution_count": 9,
   "id": "529f8670",
   "metadata": {},
   "outputs": [
    {
     "data": {
      "text/plain": [
       "<AxesSubplot: >"
      ]
     },
     "execution_count": 9,
     "metadata": {},
     "output_type": "execute_result"
    },
    {
     "data": {
      "image/png": "[encoded data removed]",
      "text/plain": [
       "<Figure size 640x480 with 1 Axes>"
      ]
     },
     "metadata": {},
     "output_type": "display_data"
    }
   ],
   "source": [
    "imbalance['IMBALANCE_LONG_EUR_MWH'].plot(alpha = 0.8)\n",
    "imbalance['IMBALANCE_SHORT_EUR_MWH'].plot(alpha = 0.5)"
   ]
  },
  {
   "cell_type": "code",
   "execution_count": 19,
   "id": "42b0188e",
   "metadata": {},
   "outputs": [
    {
     "data": {
      "text/plain": [
       "<AxesSubplot: >"
      ]
     },
     "execution_count": 19,
     "metadata": {},
     "output_type": "execute_result"
    },
    {
     "data": {
      "image/png": "[encoded data removed]",
      "text/plain": [
       "<Figure size 640x480 with 1 Axes>"
      ]
     },
     "metadata": {},
     "output_type": "display_data"
    }
   ],
   "source": [
    "imbalance['IMBALANCE_LONG_EUR_MWH'].hist(alpha = 0.8)\n",
    "imbalance['IMBALANCE_SHORT_EUR_MWH'].hist(alpha = 0.5)"
   ]
  },
  {
   "cell_type": "code",
   "execution_count": 16,
   "id": "16e56233",
   "metadata": {},
   "outputs": [
    {
     "data": {
      "application/vnd.microsoft.datawrangler.viewer.v0+json": {
       "columns": [
        {
         "name": "index",
         "rawType": "int64",
         "type": "integer"
        },
        {
         "name": "START_DATETIME_UTC",
         "rawType": "object",
         "type": "string"
        },
        {
         "name": "IMBALANCE_LONG_EUR_MWH",
         "rawType": "float64",
         "type": "float"
        },
        {
         "name": "IMBALANCE_SHORT_EUR_MWH",
         "rawType": "float64",
         "type": "float"
        }
       ],
       "ref": "bcd8e6ce-6085-475d-9e69-95af2e361062",
       "rows": [
        [
         "8",
         "2025-05-05 00:00:00.000 Z",
         "65.5",
         "84.0"
        ],
        [
         "20",
         "2025-05-05 03:00:00.000 Z",
         "57.08",
         "78.56"
        ],
        [
         "40",
         "2025-05-05 08:00:00.000 Z",
         "-16.35",
         "86.36"
        ],
        [
         "52",
         "2025-05-05 11:00:00.000 Z",
         "16.98",
         "42.29"
        ],
        [
         "53",
         "2025-05-05 11:15:00.000 Z",
         "42.29",
         "81.77"
        ],
        [
         "54",
         "2025-05-05 11:30:00.000 Z",
         "42.29",
         "78.56"
        ],
        [
         "61",
         "2025-05-05 13:15:00.000 Z",
         "-59.6",
         "58.6"
        ],
        [
         "69",
         "2025-05-05 15:15:00.000 Z",
         "0.0",
         "40.79"
        ],
        [
         "70",
         "2025-05-05 15:30:00.000 Z",
         "-11.4",
         "68.56"
        ],
        [
         "72",
         "2025-05-05 16:00:00.000 Z",
         "40.79",
         "68.56"
        ],
        [
         "73",
         "2025-05-05 16:15:00.000 Z",
         "36.98",
         "40.79"
        ],
        [
         "74",
         "2025-05-05 16:30:00.000 Z",
         "40.79",
         "84.0"
        ],
        [
         "80",
         "2025-05-05 18:00:00.000 Z",
         "51.58",
         "66.0"
        ],
        [
         "81",
         "2025-05-05 18:15:00.000 Z",
         "66.0",
         "78.56"
        ],
        [
         "85",
         "2025-05-05 19:15:00.000 Z",
         "66.0",
         "78.56"
        ],
        [
         "89",
         "2025-05-05 20:15:00.000 Z",
         "66.0",
         "78.56"
        ],
        [
         "93",
         "2025-05-05 21:15:00.000 Z",
         "66.0",
         "78.56"
        ],
        [
         "95",
         "2025-05-05 21:45:00.000 Z",
         "64.0",
         "84.0"
        ],
        [
         "98",
         "2025-05-05 22:30:00.000 Z",
         "51.58",
         "64.49"
        ],
        [
         "100",
         "2025-05-05 23:00:00.000 Z",
         "64.49",
         "86.3"
        ],
        [
         "120",
         "2025-05-06 04:00:00.000 Z",
         "44.0",
         "95.0"
        ],
        [
         "125",
         "2025-05-06 05:15:00.000 Z",
         "71.77",
         "100.0"
        ],
        [
         "137",
         "2025-05-06 08:15:00.000 Z",
         "-30.0",
         "68.56"
        ],
        [
         "146",
         "2025-05-06 10:30:00.000 Z",
         "10.0",
         "47.99"
        ],
        [
         "147",
         "2025-05-06 10:45:00.000 Z",
         "26.0",
         "47.99"
        ],
        [
         "159",
         "2025-05-06 13:45:00.000 Z",
         "61.79",
         "85.5"
        ],
        [
         "168",
         "2025-05-06 16:00:00.000 Z",
         "71.87",
         "102.0"
        ],
        [
         "169",
         "2025-05-06 16:15:00.000 Z",
         "71.04",
         "102.0"
        ],
        [
         "171",
         "2025-05-06 16:45:00.000 Z",
         "79.0",
         "140.0"
        ],
        [
         "172",
         "2025-05-06 17:00:00.000 Z",
         "80.98",
         "95.0"
        ],
        [
         "182",
         "2025-05-06 19:30:00.000 Z",
         "84.98",
         "108.28"
        ],
        [
         "184",
         "2025-05-06 20:00:00.000 Z",
         "51.31",
         "109.28"
        ],
        [
         "185",
         "2025-05-06 20:15:00.000 Z",
         "75.0",
         "109.28"
        ],
        [
         "186",
         "2025-05-06 20:30:00.000 Z",
         "71.0",
         "104.28"
        ],
        [
         "188",
         "2025-05-06 21:00:00.000 Z",
         "51.0",
         "105.0"
        ],
        [
         "190",
         "2025-05-06 21:30:00.000 Z",
         "65.08",
         "77.5"
        ],
        [
         "191",
         "2025-05-06 21:45:00.000 Z",
         "72.0",
         "111.0"
        ],
        [
         "192",
         "2025-05-06 22:00:00.000 Z",
         "66.0",
         "134.4"
        ],
        [
         "204",
         "2025-05-07 01:00:00.000 Z",
         "66.55",
         "82.89"
        ],
        [
         "212",
         "2025-05-07 03:00:00.000 Z",
         "64.49",
         "86.0"
        ],
        [
         "216",
         "2025-05-07 04:00:00.000 Z",
         "76.77",
         "167.34"
        ],
        [
         "238",
         "2025-05-07 09:30:00.000 Z",
         "64.49",
         "68.56"
        ],
        [
         "239",
         "2025-05-07 09:45:00.000 Z",
         "66.0",
         "86.0"
        ],
        [
         "244",
         "2025-05-07 11:00:00.000 Z",
         "65.57",
         "86.7"
        ],
        [
         "248",
         "2025-05-07 12:00:00.000 Z",
         "57.17",
         "113.98"
        ],
        [
         "250",
         "2025-05-07 12:30:00.000 Z",
         "64.49",
         "78.56"
        ],
        [
         "253",
         "2025-05-07 13:15:00.000 Z",
         "64.49",
         "107.0"
        ],
        [
         "256",
         "2025-05-07 14:00:00.000 Z",
         "60.0",
         "120.0"
        ],
        [
         "258",
         "2025-05-07 14:30:00.000 Z",
         "60.67",
         "94.53"
        ],
        [
         "260",
         "2025-05-07 15:00:00.000 Z",
         "60.0",
         "93.88"
        ]
       ],
       "shape": {
        "columns": 3,
        "rows": 131
       }
      },
      "text/html": [
       "<div>\n",
       "<style scoped>\n",
       "    .dataframe tbody tr th:only-of-type {\n",
       "        vertical-align: middle;\n",
       "    }\n",
       "\n",
       "    .dataframe tbody tr th {\n",
       "        vertical-align: top;\n",
       "    }\n",
       "\n",
       "    .dataframe thead th {\n",
       "        text-align: right;\n",
       "    }\n",
       "</style>\n",
       "<table border=\"1\" class=\"dataframe\">\n",
       "  <thead>\n",
       "    <tr style=\"text-align: right;\">\n",
       "      <th></th>\n",
       "      <th>START_DATETIME_UTC</th>\n",
       "      <th>IMBALANCE_LONG_EUR_MWH</th>\n",
       "      <th>IMBALANCE_SHORT_EUR_MWH</th>\n",
       "    </tr>\n",
       "  </thead>\n",
       "  <tbody>\n",
       "    <tr>\n",
       "      <th>8</th>\n",
       "      <td>2025-05-05 00:00:00.000 Z</td>\n",
       "      <td>65.50</td>\n",
       "      <td>84.00</td>\n",
       "    </tr>\n",
       "    <tr>\n",
       "      <th>20</th>\n",
       "      <td>2025-05-05 03:00:00.000 Z</td>\n",
       "      <td>57.08</td>\n",
       "      <td>78.56</td>\n",
       "    </tr>\n",
       "    <tr>\n",
       "      <th>40</th>\n",
       "      <td>2025-05-05 08:00:00.000 Z</td>\n",
       "      <td>-16.35</td>\n",
       "      <td>86.36</td>\n",
       "    </tr>\n",
       "    <tr>\n",
       "      <th>52</th>\n",
       "      <td>2025-05-05 11:00:00.000 Z</td>\n",
       "      <td>16.98</td>\n",
       "      <td>42.29</td>\n",
       "    </tr>\n",
       "    <tr>\n",
       "      <th>53</th>\n",
       "      <td>2025-05-05 11:15:00.000 Z</td>\n",
       "      <td>42.29</td>\n",
       "      <td>81.77</td>\n",
       "    </tr>\n",
       "    <tr>\n",
       "      <th>...</th>\n",
       "      <td>...</td>\n",
       "      <td>...</td>\n",
       "      <td>...</td>\n",
       "    </tr>\n",
       "    <tr>\n",
       "      <th>664</th>\n",
       "      <td>2025-05-11 20:00:00.000 Z</td>\n",
       "      <td>51.98</td>\n",
       "      <td>111.98</td>\n",
       "    </tr>\n",
       "    <tr>\n",
       "      <th>668</th>\n",
       "      <td>2025-05-11 21:00:00.000 Z</td>\n",
       "      <td>63.00</td>\n",
       "      <td>149.40</td>\n",
       "    </tr>\n",
       "    <tr>\n",
       "      <th>669</th>\n",
       "      <td>2025-05-11 21:15:00.000 Z</td>\n",
       "      <td>60.57</td>\n",
       "      <td>101.70</td>\n",
       "    </tr>\n",
       "    <tr>\n",
       "      <th>670</th>\n",
       "      <td>2025-05-11 21:30:00.000 Z</td>\n",
       "      <td>60.12</td>\n",
       "      <td>111.00</td>\n",
       "    </tr>\n",
       "    <tr>\n",
       "      <th>671</th>\n",
       "      <td>2025-05-11 21:45:00.000 Z</td>\n",
       "      <td>35.00</td>\n",
       "      <td>78.56</td>\n",
       "    </tr>\n",
       "  </tbody>\n",
       "</table>\n",
       "<p>131 rows × 3 columns</p>\n",
       "</div>"
      ],
      "text/plain": [
       "            START_DATETIME_UTC  IMBALANCE_LONG_EUR_MWH  \\\n",
       "8    2025-05-05 00:00:00.000 Z                   65.50   \n",
       "20   2025-05-05 03:00:00.000 Z                   57.08   \n",
       "40   2025-05-05 08:00:00.000 Z                  -16.35   \n",
       "52   2025-05-05 11:00:00.000 Z                   16.98   \n",
       "53   2025-05-05 11:15:00.000 Z                   42.29   \n",
       "..                         ...                     ...   \n",
       "664  2025-05-11 20:00:00.000 Z                   51.98   \n",
       "668  2025-05-11 21:00:00.000 Z                   63.00   \n",
       "669  2025-05-11 21:15:00.000 Z                   60.57   \n",
       "670  2025-05-11 21:30:00.000 Z                   60.12   \n",
       "671  2025-05-11 21:45:00.000 Z                   35.00   \n",
       "\n",
       "     IMBALANCE_SHORT_EUR_MWH  \n",
       "8                      84.00  \n",
       "20                     78.56  \n",
       "40                     86.36  \n",
       "52                     42.29  \n",
       "53                     81.77  \n",
       "..                       ...  \n",
       "664                   111.98  \n",
       "668                   149.40  \n",
       "669                   101.70  \n",
       "670                   111.00  \n",
       "671                    78.56  \n",
       "\n",
       "[131 rows x 3 columns]"
      ]
     },
     "execution_count": 16,
     "metadata": {},
     "output_type": "execute_result"
    }
   ],
   "source": [
    "imbalance[imbalance['IMBALANCE_LONG_EUR_MWH'] != imbalance['IMBALANCE_SHORT_EUR_MWH']]"
   ]
  },
  {
   "cell_type": "code",
   "execution_count": 14,
   "id": "e238a471",
   "metadata": {},
   "outputs": [
    {
     "data": {
      "application/vnd.microsoft.datawrangler.viewer.v0+json": {
       "columns": [
        {
         "name": "index",
         "rawType": "object",
         "type": "string"
        },
        {
         "name": "0",
         "rawType": "int64",
         "type": "integer"
        }
       ],
       "ref": "43c8419c-dbc5-4156-b163-3526a51abffd",
       "rows": [
        [
         "START_DATETIME_UTC",
         "0"
        ],
        [
         "IMBALANCE_LONG_EUR_MWH",
         "0"
        ],
        [
         "IMBALANCE_SHORT_EUR_MWH",
         "0"
        ]
       ],
       "shape": {
        "columns": 1,
        "rows": 3
       }
      },
      "text/plain": [
       "START_DATETIME_UTC         0\n",
       "IMBALANCE_LONG_EUR_MWH     0\n",
       "IMBALANCE_SHORT_EUR_MWH    0\n",
       "dtype: int64"
      ]
     },
     "execution_count": 14,
     "metadata": {},
     "output_type": "execute_result"
    }
   ],
   "source": [
    "imbalance.isna().sum()"
   ]
  },
  {
   "cell_type": "code",
   "execution_count": 10,
   "id": "292b3bd0",
   "metadata": {},
   "outputs": [
    {
     "data": {
      "application/vnd.microsoft.datawrangler.viewer.v0+json": {
       "columns": [
        {
         "name": "index",
         "rawType": "object",
         "type": "string"
        },
        {
         "name": "IMBALANCE_LONG_EUR_MWH",
         "rawType": "float64",
         "type": "float"
        },
        {
         "name": "IMBALANCE_SHORT_EUR_MWH",
         "rawType": "float64",
         "type": "float"
        }
       ],
       "ref": "3404f73b-a809-4e4b-87c1-6489fe3072c7",
       "rows": [
        [
         "count",
         "672.0",
         "672.0"
        ],
        [
         "mean",
         "84.77130952380952",
         "93.89834821428572"
        ],
        [
         "std",
         "245.57242736156232",
         "244.75135696643207"
        ],
        [
         "min",
         "-581.13",
         "-581.13"
        ],
        [
         "25%",
         "16.48",
         "40.5"
        ],
        [
         "50%",
         "67.36500000000001",
         "83.99000000000001"
        ],
        [
         "75%",
         "109.08500000000001",
         "119.375"
        ],
        [
         "max",
         "2940.0",
         "2940.0"
        ]
       ],
       "shape": {
        "columns": 2,
        "rows": 8
       }
      },
      "text/html": [
       "<div>\n",
       "<style scoped>\n",
       "    .dataframe tbody tr th:only-of-type {\n",
       "        vertical-align: middle;\n",
       "    }\n",
       "\n",
       "    .dataframe tbody tr th {\n",
       "        vertical-align: top;\n",
       "    }\n",
       "\n",
       "    .dataframe thead th {\n",
       "        text-align: right;\n",
       "    }\n",
       "</style>\n",
       "<table border=\"1\" class=\"dataframe\">\n",
       "  <thead>\n",
       "    <tr style=\"text-align: right;\">\n",
       "      <th></th>\n",
       "      <th>IMBALANCE_LONG_EUR_MWH</th>\n",
       "      <th>IMBALANCE_SHORT_EUR_MWH</th>\n",
       "    </tr>\n",
       "  </thead>\n",
       "  <tbody>\n",
       "    <tr>\n",
       "      <th>count</th>\n",
       "      <td>672.000000</td>\n",
       "      <td>672.000000</td>\n",
       "    </tr>\n",
       "    <tr>\n",
       "      <th>mean</th>\n",
       "      <td>84.771310</td>\n",
       "      <td>93.898348</td>\n",
       "    </tr>\n",
       "    <tr>\n",
       "      <th>std</th>\n",
       "      <td>245.572427</td>\n",
       "      <td>244.751357</td>\n",
       "    </tr>\n",
       "    <tr>\n",
       "      <th>min</th>\n",
       "      <td>-581.130000</td>\n",
       "      <td>-581.130000</td>\n",
       "    </tr>\n",
       "    <tr>\n",
       "      <th>25%</th>\n",
       "      <td>16.480000</td>\n",
       "      <td>40.500000</td>\n",
       "    </tr>\n",
       "    <tr>\n",
       "      <th>50%</th>\n",
       "      <td>67.365000</td>\n",
       "      <td>83.990000</td>\n",
       "    </tr>\n",
       "    <tr>\n",
       "      <th>75%</th>\n",
       "      <td>109.085000</td>\n",
       "      <td>119.375000</td>\n",
       "    </tr>\n",
       "    <tr>\n",
       "      <th>max</th>\n",
       "      <td>2940.000000</td>\n",
       "      <td>2940.000000</td>\n",
       "    </tr>\n",
       "  </tbody>\n",
       "</table>\n",
       "</div>"
      ],
      "text/plain": [
       "       IMBALANCE_LONG_EUR_MWH  IMBALANCE_SHORT_EUR_MWH\n",
       "count              672.000000               672.000000\n",
       "mean                84.771310                93.898348\n",
       "std                245.572427               244.751357\n",
       "min               -581.130000              -581.130000\n",
       "25%                 16.480000                40.500000\n",
       "50%                 67.365000                83.990000\n",
       "75%                109.085000               119.375000\n",
       "max               2940.000000              2940.000000"
      ]
     },
     "execution_count": 10,
     "metadata": {},
     "output_type": "execute_result"
    }
   ],
   "source": [
    "imbalance.describe()"
   ]
  },
  {
   "cell_type": "code",
   "execution_count": 11,
   "id": "4bb3f96b",
   "metadata": {},
   "outputs": [
    {
     "name": "stdout",
     "output_type": "stream",
     "text": [
      "<class 'pandas.core.frame.DataFrame'>\n",
      "RangeIndex: 672 entries, 0 to 671\n",
      "Data columns (total 3 columns):\n",
      " #   Column                   Non-Null Count  Dtype  \n",
      "---  ------                   --------------  -----  \n",
      " 0   START_DATETIME_UTC       672 non-null    object \n",
      " 1   IMBALANCE_LONG_EUR_MWH   672 non-null    float64\n",
      " 2   IMBALANCE_SHORT_EUR_MWH  672 non-null    float64\n",
      "dtypes: float64(2), object(1)\n",
      "memory usage: 15.9+ KB\n"
     ]
    }
   ],
   "source": [
    "imbalance.info()"
   ]
  },
  {
   "cell_type": "code",
   "execution_count": 20,
   "id": "424ca9d5",
   "metadata": {},
   "outputs": [],
   "source": [
    "imbalance['START_DATETIME_UTC'] = pd.to_datetime(imbalance['START_DATETIME_UTC'])"
   ]
  },
  {
   "cell_type": "code",
   "execution_count": 21,
   "id": "845edfc5",
   "metadata": {},
   "outputs": [
    {
     "data": {
      "application/vnd.microsoft.datawrangler.viewer.v0+json": {
       "columns": [
        {
         "name": "index",
         "rawType": "int64",
         "type": "integer"
        },
        {
         "name": "START_DATETIME_UTC",
         "rawType": "datetime64[ns, UTC]",
         "type": "unknown"
        },
        {
         "name": "IMBALANCE_LONG_EUR_MWH",
         "rawType": "float64",
         "type": "float"
        },
        {
         "name": "IMBALANCE_SHORT_EUR_MWH",
         "rawType": "float64",
         "type": "float"
        }
       ],
       "ref": "0eef831f-c43b-4f07-8e48-1227e3fa8a1a",
       "rows": [
        [
         "0",
         "2025-05-04 22:00:00+00:00",
         "36.76",
         "36.76"
        ],
        [
         "1",
         "2025-05-04 22:15:00+00:00",
         "28.58",
         "28.58"
        ],
        [
         "2",
         "2025-05-04 22:30:00+00:00",
         "28.58",
         "28.58"
        ],
        [
         "3",
         "2025-05-04 22:45:00+00:00",
         "34.68",
         "34.68"
        ],
        [
         "4",
         "2025-05-04 23:00:00+00:00",
         "34.58",
         "34.58"
        ],
        [
         "5",
         "2025-05-04 23:15:00+00:00",
         "50.08",
         "50.08"
        ],
        [
         "6",
         "2025-05-04 23:30:00+00:00",
         "66.0",
         "66.0"
        ],
        [
         "7",
         "2025-05-04 23:45:00+00:00",
         "72.98",
         "72.98"
        ],
        [
         "8",
         "2025-05-05 00:00:00+00:00",
         "65.5",
         "84.0"
        ],
        [
         "9",
         "2025-05-05 00:15:00+00:00",
         "84.0",
         "84.0"
        ],
        [
         "10",
         "2025-05-05 00:30:00+00:00",
         "78.56",
         "78.56"
        ],
        [
         "11",
         "2025-05-05 00:45:00+00:00",
         "78.56",
         "78.56"
        ],
        [
         "12",
         "2025-05-05 01:00:00+00:00",
         "84.0",
         "84.0"
        ],
        [
         "13",
         "2025-05-05 01:15:00+00:00",
         "71.0",
         "71.0"
        ],
        [
         "14",
         "2025-05-05 01:30:00+00:00",
         "72.98",
         "72.98"
        ],
        [
         "15",
         "2025-05-05 01:45:00+00:00",
         "60.21",
         "60.21"
        ],
        [
         "16",
         "2025-05-05 02:00:00+00:00",
         "69.88",
         "69.88"
        ],
        [
         "17",
         "2025-05-05 02:15:00+00:00",
         "66.75",
         "66.75"
        ],
        [
         "18",
         "2025-05-05 02:30:00+00:00",
         "56.04",
         "56.04"
        ],
        [
         "19",
         "2025-05-05 02:45:00+00:00",
         "64.1",
         "64.1"
        ],
        [
         "20",
         "2025-05-05 03:00:00+00:00",
         "57.08",
         "78.56"
        ],
        [
         "21",
         "2025-05-05 03:15:00+00:00",
         "85.9",
         "85.9"
        ],
        [
         "22",
         "2025-05-05 03:30:00+00:00",
         "90.98",
         "90.98"
        ],
        [
         "23",
         "2025-05-05 03:45:00+00:00",
         "112.98",
         "112.98"
        ],
        [
         "24",
         "2025-05-05 04:00:00+00:00",
         "150.34",
         "150.34"
        ],
        [
         "25",
         "2025-05-05 04:15:00+00:00",
         "150.6",
         "150.6"
        ],
        [
         "26",
         "2025-05-05 04:30:00+00:00",
         "86.56",
         "86.56"
        ],
        [
         "27",
         "2025-05-05 04:45:00+00:00",
         "84.23",
         "84.23"
        ],
        [
         "28",
         "2025-05-05 05:00:00+00:00",
         "69.98",
         "69.98"
        ],
        [
         "29",
         "2025-05-05 05:15:00+00:00",
         "68.98",
         "68.98"
        ],
        [
         "30",
         "2025-05-05 05:30:00+00:00",
         "65.9",
         "65.9"
        ],
        [
         "31",
         "2025-05-05 05:45:00+00:00",
         "14.98",
         "14.98"
        ],
        [
         "32",
         "2025-05-05 06:00:00+00:00",
         "10.0",
         "10.0"
        ],
        [
         "33",
         "2025-05-05 06:15:00+00:00",
         "3.98",
         "3.98"
        ],
        [
         "34",
         "2025-05-05 06:30:00+00:00",
         "-34.0",
         "-34.0"
        ],
        [
         "35",
         "2025-05-05 06:45:00+00:00",
         "-50.0",
         "-50.0"
        ],
        [
         "36",
         "2025-05-05 07:00:00+00:00",
         "-70.0",
         "-70.0"
        ],
        [
         "37",
         "2025-05-05 07:15:00+00:00",
         "-60.0",
         "-60.0"
        ],
        [
         "38",
         "2025-05-05 07:30:00+00:00",
         "-40.0",
         "-40.0"
        ],
        [
         "39",
         "2025-05-05 07:45:00+00:00",
         "-18.5",
         "-18.5"
        ],
        [
         "40",
         "2025-05-05 08:00:00+00:00",
         "-16.35",
         "86.36"
        ],
        [
         "41",
         "2025-05-05 08:15:00+00:00",
         "10.0",
         "10.0"
        ],
        [
         "42",
         "2025-05-05 08:30:00+00:00",
         "16.98",
         "16.98"
        ],
        [
         "43",
         "2025-05-05 08:45:00+00:00",
         "10.0",
         "10.0"
        ],
        [
         "44",
         "2025-05-05 09:00:00+00:00",
         "-20.13",
         "-20.13"
        ],
        [
         "45",
         "2025-05-05 09:15:00+00:00",
         "-30.0",
         "-30.0"
        ],
        [
         "46",
         "2025-05-05 09:30:00+00:00",
         "8.98",
         "8.98"
        ],
        [
         "47",
         "2025-05-05 09:45:00+00:00",
         "-29.7",
         "-29.7"
        ],
        [
         "48",
         "2025-05-05 10:00:00+00:00",
         "-29.26",
         "-29.26"
        ],
        [
         "49",
         "2025-05-05 10:15:00+00:00",
         "64.98",
         "64.98"
        ]
       ],
       "shape": {
        "columns": 3,
        "rows": 672
       }
      },
      "text/html": [
       "<div>\n",
       "<style scoped>\n",
       "    .dataframe tbody tr th:only-of-type {\n",
       "        vertical-align: middle;\n",
       "    }\n",
       "\n",
       "    .dataframe tbody tr th {\n",
       "        vertical-align: top;\n",
       "    }\n",
       "\n",
       "    .dataframe thead th {\n",
       "        text-align: right;\n",
       "    }\n",
       "</style>\n",
       "<table border=\"1\" class=\"dataframe\">\n",
       "  <thead>\n",
       "    <tr style=\"text-align: right;\">\n",
       "      <th></th>\n",
       "      <th>START_DATETIME_UTC</th>\n",
       "      <th>IMBALANCE_LONG_EUR_MWH</th>\n",
       "      <th>IMBALANCE_SHORT_EUR_MWH</th>\n",
       "    </tr>\n",
       "  </thead>\n",
       "  <tbody>\n",
       "    <tr>\n",
       "      <th>0</th>\n",
       "      <td>2025-05-04 22:00:00+00:00</td>\n",
       "      <td>36.76</td>\n",
       "      <td>36.76</td>\n",
       "    </tr>\n",
       "    <tr>\n",
       "      <th>1</th>\n",
       "      <td>2025-05-04 22:15:00+00:00</td>\n",
       "      <td>28.58</td>\n",
       "      <td>28.58</td>\n",
       "    </tr>\n",
       "    <tr>\n",
       "      <th>2</th>\n",
       "      <td>2025-05-04 22:30:00+00:00</td>\n",
       "      <td>28.58</td>\n",
       "      <td>28.58</td>\n",
       "    </tr>\n",
       "    <tr>\n",
       "      <th>3</th>\n",
       "      <td>2025-05-04 22:45:00+00:00</td>\n",
       "      <td>34.68</td>\n",
       "      <td>34.68</td>\n",
       "    </tr>\n",
       "    <tr>\n",
       "      <th>4</th>\n",
       "      <td>2025-05-04 23:00:00+00:00</td>\n",
       "      <td>34.58</td>\n",
       "      <td>34.58</td>\n",
       "    </tr>\n",
       "    <tr>\n",
       "      <th>...</th>\n",
       "      <td>...</td>\n",
       "      <td>...</td>\n",
       "      <td>...</td>\n",
       "    </tr>\n",
       "    <tr>\n",
       "      <th>667</th>\n",
       "      <td>2025-05-11 20:45:00+00:00</td>\n",
       "      <td>54.57</td>\n",
       "      <td>54.57</td>\n",
       "    </tr>\n",
       "    <tr>\n",
       "      <th>668</th>\n",
       "      <td>2025-05-11 21:00:00+00:00</td>\n",
       "      <td>63.00</td>\n",
       "      <td>149.40</td>\n",
       "    </tr>\n",
       "    <tr>\n",
       "      <th>669</th>\n",
       "      <td>2025-05-11 21:15:00+00:00</td>\n",
       "      <td>60.57</td>\n",
       "      <td>101.70</td>\n",
       "    </tr>\n",
       "    <tr>\n",
       "      <th>670</th>\n",
       "      <td>2025-05-11 21:30:00+00:00</td>\n",
       "      <td>60.12</td>\n",
       "      <td>111.00</td>\n",
       "    </tr>\n",
       "    <tr>\n",
       "      <th>671</th>\n",
       "      <td>2025-05-11 21:45:00+00:00</td>\n",
       "      <td>35.00</td>\n",
       "      <td>78.56</td>\n",
       "    </tr>\n",
       "  </tbody>\n",
       "</table>\n",
       "<p>672 rows × 3 columns</p>\n",
       "</div>"
      ],
      "text/plain": [
       "           START_DATETIME_UTC  IMBALANCE_LONG_EUR_MWH  IMBALANCE_SHORT_EUR_MWH\n",
       "0   2025-05-04 22:00:00+00:00                   36.76                    36.76\n",
       "1   2025-05-04 22:15:00+00:00                   28.58                    28.58\n",
       "2   2025-05-04 22:30:00+00:00                   28.58                    28.58\n",
       "3   2025-05-04 22:45:00+00:00                   34.68                    34.68\n",
       "4   2025-05-04 23:00:00+00:00                   34.58                    34.58\n",
       "..                        ...                     ...                      ...\n",
       "667 2025-05-11 20:45:00+00:00                   54.57                    54.57\n",
       "668 2025-05-11 21:00:00+00:00                   63.00                   149.40\n",
       "669 2025-05-11 21:15:00+00:00                   60.57                   101.70\n",
       "670 2025-05-11 21:30:00+00:00                   60.12                   111.00\n",
       "671 2025-05-11 21:45:00+00:00                   35.00                    78.56\n",
       "\n",
       "[672 rows x 3 columns]"
      ]
     },
     "execution_count": 21,
     "metadata": {},
     "output_type": "execute_result"
    }
   ],
   "source": [
    "imbalance"
   ]
  },
  {
   "cell_type": "code",
   "execution_count": 22,
   "id": "dcaaf469",
   "metadata": {},
   "outputs": [
    {
     "name": "stdout",
     "output_type": "stream",
     "text": [
      "<class 'pandas.core.frame.DataFrame'>\n",
      "RangeIndex: 672 entries, 0 to 671\n",
      "Data columns (total 3 columns):\n",
      " #   Column                   Non-Null Count  Dtype              \n",
      "---  ------                   --------------  -----              \n",
      " 0   START_DATETIME_UTC       672 non-null    datetime64[ns, UTC]\n",
      " 1   IMBALANCE_LONG_EUR_MWH   672 non-null    float64            \n",
      " 2   IMBALANCE_SHORT_EUR_MWH  672 non-null    float64            \n",
      "dtypes: datetime64[ns, UTC](1), float64(2)\n",
      "memory usage: 15.9 KB\n"
     ]
    }
   ],
   "source": [
    "imbalance.info()"
   ]
  },
  {
   "cell_type": "code",
   "execution_count": 24,
   "id": "ad2228e2",
   "metadata": {},
   "outputs": [],
   "source": [
    "cols = ['IMBALANCE_LONG_EUR_MWH', 'IMBALANCE_SHORT_EUR_MWH']\n",
    "imbalance['IMBALANCE_SELLING_PRICE'] = imbalance[cols].min(axis=1)"
   ]
  },
  {
   "cell_type": "code",
   "execution_count": 25,
   "id": "57f41c4a",
   "metadata": {},
   "outputs": [
    {
     "data": {
      "application/vnd.microsoft.datawrangler.viewer.v0+json": {
       "columns": [
        {
         "name": "index",
         "rawType": "int64",
         "type": "integer"
        },
        {
         "name": "START_DATETIME_UTC",
         "rawType": "datetime64[ns, UTC]",
         "type": "unknown"
        },
        {
         "name": "IMBALANCE_LONG_EUR_MWH",
         "rawType": "float64",
         "type": "float"
        },
        {
         "name": "IMBALANCE_SHORT_EUR_MWH",
         "rawType": "float64",
         "type": "float"
        },
        {
         "name": "IMBALANCE_SELLING_PRICE",
         "rawType": "float64",
         "type": "float"
        }
       ],
       "ref": "5f1159e0-2ced-4a18-8e17-2a41801b686c",
       "rows": [
        [
         "0",
         "2025-05-04 22:00:00+00:00",
         "36.76",
         "36.76",
         "36.76"
        ],
        [
         "1",
         "2025-05-04 22:15:00+00:00",
         "28.58",
         "28.58",
         "28.58"
        ],
        [
         "2",
         "2025-05-04 22:30:00+00:00",
         "28.58",
         "28.58",
         "28.58"
        ],
        [
         "3",
         "2025-05-04 22:45:00+00:00",
         "34.68",
         "34.68",
         "34.68"
        ],
        [
         "4",
         "2025-05-04 23:00:00+00:00",
         "34.58",
         "34.58",
         "34.58"
        ],
        [
         "5",
         "2025-05-04 23:15:00+00:00",
         "50.08",
         "50.08",
         "50.08"
        ],
        [
         "6",
         "2025-05-04 23:30:00+00:00",
         "66.0",
         "66.0",
         "66.0"
        ],
        [
         "7",
         "2025-05-04 23:45:00+00:00",
         "72.98",
         "72.98",
         "72.98"
        ],
        [
         "8",
         "2025-05-05 00:00:00+00:00",
         "65.5",
         "84.0",
         "65.5"
        ],
        [
         "9",
         "2025-05-05 00:15:00+00:00",
         "84.0",
         "84.0",
         "84.0"
        ],
        [
         "10",
         "2025-05-05 00:30:00+00:00",
         "78.56",
         "78.56",
         "78.56"
        ],
        [
         "11",
         "2025-05-05 00:45:00+00:00",
         "78.56",
         "78.56",
         "78.56"
        ],
        [
         "12",
         "2025-05-05 01:00:00+00:00",
         "84.0",
         "84.0",
         "84.0"
        ],
        [
         "13",
         "2025-05-05 01:15:00+00:00",
         "71.0",
         "71.0",
         "71.0"
        ],
        [
         "14",
         "2025-05-05 01:30:00+00:00",
         "72.98",
         "72.98",
         "72.98"
        ],
        [
         "15",
         "2025-05-05 01:45:00+00:00",
         "60.21",
         "60.21",
         "60.21"
        ],
        [
         "16",
         "2025-05-05 02:00:00+00:00",
         "69.88",
         "69.88",
         "69.88"
        ],
        [
         "17",
         "2025-05-05 02:15:00+00:00",
         "66.75",
         "66.75",
         "66.75"
        ],
        [
         "18",
         "2025-05-05 02:30:00+00:00",
         "56.04",
         "56.04",
         "56.04"
        ],
        [
         "19",
         "2025-05-05 02:45:00+00:00",
         "64.1",
         "64.1",
         "64.1"
        ],
        [
         "20",
         "2025-05-05 03:00:00+00:00",
         "57.08",
         "78.56",
         "57.08"
        ],
        [
         "21",
         "2025-05-05 03:15:00+00:00",
         "85.9",
         "85.9",
         "85.9"
        ],
        [
         "22",
         "2025-05-05 03:30:00+00:00",
         "90.98",
         "90.98",
         "90.98"
        ],
        [
         "23",
         "2025-05-05 03:45:00+00:00",
         "112.98",
         "112.98",
         "112.98"
        ],
        [
         "24",
         "2025-05-05 04:00:00+00:00",
         "150.34",
         "150.34",
         "150.34"
        ],
        [
         "25",
         "2025-05-05 04:15:00+00:00",
         "150.6",
         "150.6",
         "150.6"
        ],
        [
         "26",
         "2025-05-05 04:30:00+00:00",
         "86.56",
         "86.56",
         "86.56"
        ],
        [
         "27",
         "2025-05-05 04:45:00+00:00",
         "84.23",
         "84.23",
         "84.23"
        ],
        [
         "28",
         "2025-05-05 05:00:00+00:00",
         "69.98",
         "69.98",
         "69.98"
        ],
        [
         "29",
         "2025-05-05 05:15:00+00:00",
         "68.98",
         "68.98",
         "68.98"
        ],
        [
         "30",
         "2025-05-05 05:30:00+00:00",
         "65.9",
         "65.9",
         "65.9"
        ],
        [
         "31",
         "2025-05-05 05:45:00+00:00",
         "14.98",
         "14.98",
         "14.98"
        ],
        [
         "32",
         "2025-05-05 06:00:00+00:00",
         "10.0",
         "10.0",
         "10.0"
        ],
        [
         "33",
         "2025-05-05 06:15:00+00:00",
         "3.98",
         "3.98",
         "3.98"
        ],
        [
         "34",
         "2025-05-05 06:30:00+00:00",
         "-34.0",
         "-34.0",
         "-34.0"
        ],
        [
         "35",
         "2025-05-05 06:45:00+00:00",
         "-50.0",
         "-50.0",
         "-50.0"
        ],
        [
         "36",
         "2025-05-05 07:00:00+00:00",
         "-70.0",
         "-70.0",
         "-70.0"
        ],
        [
         "37",
         "2025-05-05 07:15:00+00:00",
         "-60.0",
         "-60.0",
         "-60.0"
        ],
        [
         "38",
         "2025-05-05 07:30:00+00:00",
         "-40.0",
         "-40.0",
         "-40.0"
        ],
        [
         "39",
         "2025-05-05 07:45:00+00:00",
         "-18.5",
         "-18.5",
         "-18.5"
        ],
        [
         "40",
         "2025-05-05 08:00:00+00:00",
         "-16.35",
         "86.36",
         "-16.35"
        ],
        [
         "41",
         "2025-05-05 08:15:00+00:00",
         "10.0",
         "10.0",
         "10.0"
        ],
        [
         "42",
         "2025-05-05 08:30:00+00:00",
         "16.98",
         "16.98",
         "16.98"
        ],
        [
         "43",
         "2025-05-05 08:45:00+00:00",
         "10.0",
         "10.0",
         "10.0"
        ],
        [
         "44",
         "2025-05-05 09:00:00+00:00",
         "-20.13",
         "-20.13",
         "-20.13"
        ],
        [
         "45",
         "2025-05-05 09:15:00+00:00",
         "-30.0",
         "-30.0",
         "-30.0"
        ],
        [
         "46",
         "2025-05-05 09:30:00+00:00",
         "8.98",
         "8.98",
         "8.98"
        ],
        [
         "47",
         "2025-05-05 09:45:00+00:00",
         "-29.7",
         "-29.7",
         "-29.7"
        ],
        [
         "48",
         "2025-05-05 10:00:00+00:00",
         "-29.26",
         "-29.26",
         "-29.26"
        ],
        [
         "49",
         "2025-05-05 10:15:00+00:00",
         "64.98",
         "64.98",
         "64.98"
        ]
       ],
       "shape": {
        "columns": 4,
        "rows": 672
       }
      },
      "text/html": [
       "<div>\n",
       "<style scoped>\n",
       "    .dataframe tbody tr th:only-of-type {\n",
       "        vertical-align: middle;\n",
       "    }\n",
       "\n",
       "    .dataframe tbody tr th {\n",
       "        vertical-align: top;\n",
       "    }\n",
       "\n",
       "    .dataframe thead th {\n",
       "        text-align: right;\n",
       "    }\n",
       "</style>\n",
       "<table border=\"1\" class=\"dataframe\">\n",
       "  <thead>\n",
       "    <tr style=\"text-align: right;\">\n",
       "      <th></th>\n",
       "      <th>START_DATETIME_UTC</th>\n",
       "      <th>IMBALANCE_LONG_EUR_MWH</th>\n",
       "      <th>IMBALANCE_SHORT_EUR_MWH</th>\n",
       "      <th>IMBALANCE_SELLING_PRICE</th>\n",
       "    </tr>\n",
       "  </thead>\n",
       "  <tbody>\n",
       "    <tr>\n",
       "      <th>0</th>\n",
       "      <td>2025-05-04 22:00:00+00:00</td>\n",
       "      <td>36.76</td>\n",
       "      <td>36.76</td>\n",
       "      <td>36.76</td>\n",
       "    </tr>\n",
       "    <tr>\n",
       "      <th>1</th>\n",
       "      <td>2025-05-04 22:15:00+00:00</td>\n",
       "      <td>28.58</td>\n",
       "      <td>28.58</td>\n",
       "      <td>28.58</td>\n",
       "    </tr>\n",
       "    <tr>\n",
       "      <th>2</th>\n",
       "      <td>2025-05-04 22:30:00+00:00</td>\n",
       "      <td>28.58</td>\n",
       "      <td>28.58</td>\n",
       "      <td>28.58</td>\n",
       "    </tr>\n",
       "    <tr>\n",
       "      <th>3</th>\n",
       "      <td>2025-05-04 22:45:00+00:00</td>\n",
       "      <td>34.68</td>\n",
       "      <td>34.68</td>\n",
       "      <td>34.68</td>\n",
       "    </tr>\n",
       "    <tr>\n",
       "      <th>4</th>\n",
       "      <td>2025-05-04 23:00:00+00:00</td>\n",
       "      <td>34.58</td>\n",
       "      <td>34.58</td>\n",
       "      <td>34.58</td>\n",
       "    </tr>\n",
       "    <tr>\n",
       "      <th>...</th>\n",
       "      <td>...</td>\n",
       "      <td>...</td>\n",
       "      <td>...</td>\n",
       "      <td>...</td>\n",
       "    </tr>\n",
       "    <tr>\n",
       "      <th>667</th>\n",
       "      <td>2025-05-11 20:45:00+00:00</td>\n",
       "      <td>54.57</td>\n",
       "      <td>54.57</td>\n",
       "      <td>54.57</td>\n",
       "    </tr>\n",
       "    <tr>\n",
       "      <th>668</th>\n",
       "      <td>2025-05-11 21:00:00+00:00</td>\n",
       "      <td>63.00</td>\n",
       "      <td>149.40</td>\n",
       "      <td>63.00</td>\n",
       "    </tr>\n",
       "    <tr>\n",
       "      <th>669</th>\n",
       "      <td>2025-05-11 21:15:00+00:00</td>\n",
       "      <td>60.57</td>\n",
       "      <td>101.70</td>\n",
       "      <td>60.57</td>\n",
       "    </tr>\n",
       "    <tr>\n",
       "      <th>670</th>\n",
       "      <td>2025-05-11 21:30:00+00:00</td>\n",
       "      <td>60.12</td>\n",
       "      <td>111.00</td>\n",
       "      <td>60.12</td>\n",
       "    </tr>\n",
       "    <tr>\n",
       "      <th>671</th>\n",
       "      <td>2025-05-11 21:45:00+00:00</td>\n",
       "      <td>35.00</td>\n",
       "      <td>78.56</td>\n",
       "      <td>35.00</td>\n",
       "    </tr>\n",
       "  </tbody>\n",
       "</table>\n",
       "<p>672 rows × 4 columns</p>\n",
       "</div>"
      ],
      "text/plain": [
       "           START_DATETIME_UTC  IMBALANCE_LONG_EUR_MWH  \\\n",
       "0   2025-05-04 22:00:00+00:00                   36.76   \n",
       "1   2025-05-04 22:15:00+00:00                   28.58   \n",
       "2   2025-05-04 22:30:00+00:00                   28.58   \n",
       "3   2025-05-04 22:45:00+00:00                   34.68   \n",
       "4   2025-05-04 23:00:00+00:00                   34.58   \n",
       "..                        ...                     ...   \n",
       "667 2025-05-11 20:45:00+00:00                   54.57   \n",
       "668 2025-05-11 21:00:00+00:00                   63.00   \n",
       "669 2025-05-11 21:15:00+00:00                   60.57   \n",
       "670 2025-05-11 21:30:00+00:00                   60.12   \n",
       "671 2025-05-11 21:45:00+00:00                   35.00   \n",
       "\n",
       "     IMBALANCE_SHORT_EUR_MWH  IMBALANCE_SELLING_PRICE  \n",
       "0                      36.76                    36.76  \n",
       "1                      28.58                    28.58  \n",
       "2                      28.58                    28.58  \n",
       "3                      34.68                    34.68  \n",
       "4                      34.58                    34.58  \n",
       "..                       ...                      ...  \n",
       "667                    54.57                    54.57  \n",
       "668                   149.40                    63.00  \n",
       "669                   101.70                    60.57  \n",
       "670                   111.00                    60.12  \n",
       "671                    78.56                    35.00  \n",
       "\n",
       "[672 rows x 4 columns]"
      ]
     },
     "execution_count": 25,
     "metadata": {},
     "output_type": "execute_result"
    }
   ],
   "source": [
    "imbalance"
   ]
  },
  {
   "cell_type": "code",
   "execution_count": 26,
   "id": "9dbf4f2d",
   "metadata": {},
   "outputs": [
    {
     "data": {
      "application/vnd.microsoft.datawrangler.viewer.v0+json": {
       "columns": [
        {
         "name": "index",
         "rawType": "int64",
         "type": "integer"
        },
        {
         "name": "START_DATETIME_UTC",
         "rawType": "datetime64[ns, UTC]",
         "type": "unknown"
        },
        {
         "name": "IMBALANCE_LONG_EUR_MWH",
         "rawType": "float64",
         "type": "float"
        },
        {
         "name": "IMBALANCE_SHORT_EUR_MWH",
         "rawType": "float64",
         "type": "float"
        },
        {
         "name": "IMBALANCE_SELLING_PRICE",
         "rawType": "float64",
         "type": "float"
        }
       ],
       "ref": "5188d4cd-6df9-43f5-b09b-d7d308dd9ef3",
       "rows": [
        [
         "8",
         "2025-05-05 00:00:00+00:00",
         "65.5",
         "84.0",
         "65.5"
        ],
        [
         "20",
         "2025-05-05 03:00:00+00:00",
         "57.08",
         "78.56",
         "57.08"
        ],
        [
         "40",
         "2025-05-05 08:00:00+00:00",
         "-16.35",
         "86.36",
         "-16.35"
        ],
        [
         "52",
         "2025-05-05 11:00:00+00:00",
         "16.98",
         "42.29",
         "16.98"
        ],
        [
         "53",
         "2025-05-05 11:15:00+00:00",
         "42.29",
         "81.77",
         "42.29"
        ],
        [
         "54",
         "2025-05-05 11:30:00+00:00",
         "42.29",
         "78.56",
         "42.29"
        ],
        [
         "61",
         "2025-05-05 13:15:00+00:00",
         "-59.6",
         "58.6",
         "-59.6"
        ],
        [
         "69",
         "2025-05-05 15:15:00+00:00",
         "0.0",
         "40.79",
         "0.0"
        ],
        [
         "70",
         "2025-05-05 15:30:00+00:00",
         "-11.4",
         "68.56",
         "-11.4"
        ],
        [
         "72",
         "2025-05-05 16:00:00+00:00",
         "40.79",
         "68.56",
         "40.79"
        ],
        [
         "73",
         "2025-05-05 16:15:00+00:00",
         "36.98",
         "40.79",
         "36.98"
        ],
        [
         "74",
         "2025-05-05 16:30:00+00:00",
         "40.79",
         "84.0",
         "40.79"
        ],
        [
         "80",
         "2025-05-05 18:00:00+00:00",
         "51.58",
         "66.0",
         "51.58"
        ],
        [
         "81",
         "2025-05-05 18:15:00+00:00",
         "66.0",
         "78.56",
         "66.0"
        ],
        [
         "85",
         "2025-05-05 19:15:00+00:00",
         "66.0",
         "78.56",
         "66.0"
        ],
        [
         "89",
         "2025-05-05 20:15:00+00:00",
         "66.0",
         "78.56",
         "66.0"
        ],
        [
         "93",
         "2025-05-05 21:15:00+00:00",
         "66.0",
         "78.56",
         "66.0"
        ],
        [
         "95",
         "2025-05-05 21:45:00+00:00",
         "64.0",
         "84.0",
         "64.0"
        ],
        [
         "98",
         "2025-05-05 22:30:00+00:00",
         "51.58",
         "64.49",
         "51.58"
        ],
        [
         "100",
         "2025-05-05 23:00:00+00:00",
         "64.49",
         "86.3",
         "64.49"
        ],
        [
         "120",
         "2025-05-06 04:00:00+00:00",
         "44.0",
         "95.0",
         "44.0"
        ],
        [
         "125",
         "2025-05-06 05:15:00+00:00",
         "71.77",
         "100.0",
         "71.77"
        ],
        [
         "137",
         "2025-05-06 08:15:00+00:00",
         "-30.0",
         "68.56",
         "-30.0"
        ],
        [
         "146",
         "2025-05-06 10:30:00+00:00",
         "10.0",
         "47.99",
         "10.0"
        ],
        [
         "147",
         "2025-05-06 10:45:00+00:00",
         "26.0",
         "47.99",
         "26.0"
        ],
        [
         "159",
         "2025-05-06 13:45:00+00:00",
         "61.79",
         "85.5",
         "61.79"
        ],
        [
         "168",
         "2025-05-06 16:00:00+00:00",
         "71.87",
         "102.0",
         "71.87"
        ],
        [
         "169",
         "2025-05-06 16:15:00+00:00",
         "71.04",
         "102.0",
         "71.04"
        ],
        [
         "171",
         "2025-05-06 16:45:00+00:00",
         "79.0",
         "140.0",
         "79.0"
        ],
        [
         "172",
         "2025-05-06 17:00:00+00:00",
         "80.98",
         "95.0",
         "80.98"
        ],
        [
         "182",
         "2025-05-06 19:30:00+00:00",
         "84.98",
         "108.28",
         "84.98"
        ],
        [
         "184",
         "2025-05-06 20:00:00+00:00",
         "51.31",
         "109.28",
         "51.31"
        ],
        [
         "185",
         "2025-05-06 20:15:00+00:00",
         "75.0",
         "109.28",
         "75.0"
        ],
        [
         "186",
         "2025-05-06 20:30:00+00:00",
         "71.0",
         "104.28",
         "71.0"
        ],
        [
         "188",
         "2025-05-06 21:00:00+00:00",
         "51.0",
         "105.0",
         "51.0"
        ],
        [
         "190",
         "2025-05-06 21:30:00+00:00",
         "65.08",
         "77.5",
         "65.08"
        ],
        [
         "191",
         "2025-05-06 21:45:00+00:00",
         "72.0",
         "111.0",
         "72.0"
        ],
        [
         "192",
         "2025-05-06 22:00:00+00:00",
         "66.0",
         "134.4",
         "66.0"
        ],
        [
         "204",
         "2025-05-07 01:00:00+00:00",
         "66.55",
         "82.89",
         "66.55"
        ],
        [
         "212",
         "2025-05-07 03:00:00+00:00",
         "64.49",
         "86.0",
         "64.49"
        ],
        [
         "216",
         "2025-05-07 04:00:00+00:00",
         "76.77",
         "167.34",
         "76.77"
        ],
        [
         "238",
         "2025-05-07 09:30:00+00:00",
         "64.49",
         "68.56",
         "64.49"
        ],
        [
         "239",
         "2025-05-07 09:45:00+00:00",
         "66.0",
         "86.0",
         "66.0"
        ],
        [
         "244",
         "2025-05-07 11:00:00+00:00",
         "65.57",
         "86.7",
         "65.57"
        ],
        [
         "248",
         "2025-05-07 12:00:00+00:00",
         "57.17",
         "113.98",
         "57.17"
        ],
        [
         "250",
         "2025-05-07 12:30:00+00:00",
         "64.49",
         "78.56",
         "64.49"
        ],
        [
         "253",
         "2025-05-07 13:15:00+00:00",
         "64.49",
         "107.0",
         "64.49"
        ],
        [
         "256",
         "2025-05-07 14:00:00+00:00",
         "60.0",
         "120.0",
         "60.0"
        ],
        [
         "258",
         "2025-05-07 14:30:00+00:00",
         "60.67",
         "94.53",
         "60.67"
        ],
        [
         "260",
         "2025-05-07 15:00:00+00:00",
         "60.0",
         "93.88",
         "60.0"
        ]
       ],
       "shape": {
        "columns": 4,
        "rows": 131
       }
      },
      "text/html": [
       "<div>\n",
       "<style scoped>\n",
       "    .dataframe tbody tr th:only-of-type {\n",
       "        vertical-align: middle;\n",
       "    }\n",
       "\n",
       "    .dataframe tbody tr th {\n",
       "        vertical-align: top;\n",
       "    }\n",
       "\n",
       "    .dataframe thead th {\n",
       "        text-align: right;\n",
       "    }\n",
       "</style>\n",
       "<table border=\"1\" class=\"dataframe\">\n",
       "  <thead>\n",
       "    <tr style=\"text-align: right;\">\n",
       "      <th></th>\n",
       "      <th>START_DATETIME_UTC</th>\n",
       "      <th>IMBALANCE_LONG_EUR_MWH</th>\n",
       "      <th>IMBALANCE_SHORT_EUR_MWH</th>\n",
       "      <th>IMBALANCE_SELLING_PRICE</th>\n",
       "    </tr>\n",
       "  </thead>\n",
       "  <tbody>\n",
       "    <tr>\n",
       "      <th>8</th>\n",
       "      <td>2025-05-05 00:00:00+00:00</td>\n",
       "      <td>65.50</td>\n",
       "      <td>84.00</td>\n",
       "      <td>65.50</td>\n",
       "    </tr>\n",
       "    <tr>\n",
       "      <th>20</th>\n",
       "      <td>2025-05-05 03:00:00+00:00</td>\n",
       "      <td>57.08</td>\n",
       "      <td>78.56</td>\n",
       "      <td>57.08</td>\n",
       "    </tr>\n",
       "    <tr>\n",
       "      <th>40</th>\n",
       "      <td>2025-05-05 08:00:00+00:00</td>\n",
       "      <td>-16.35</td>\n",
       "      <td>86.36</td>\n",
       "      <td>-16.35</td>\n",
       "    </tr>\n",
       "    <tr>\n",
       "      <th>52</th>\n",
       "      <td>2025-05-05 11:00:00+00:00</td>\n",
       "      <td>16.98</td>\n",
       "      <td>42.29</td>\n",
       "      <td>16.98</td>\n",
       "    </tr>\n",
       "    <tr>\n",
       "      <th>53</th>\n",
       "      <td>2025-05-05 11:15:00+00:00</td>\n",
       "      <td>42.29</td>\n",
       "      <td>81.77</td>\n",
       "      <td>42.29</td>\n",
       "    </tr>\n",
       "    <tr>\n",
       "      <th>...</th>\n",
       "      <td>...</td>\n",
       "      <td>...</td>\n",
       "      <td>...</td>\n",
       "      <td>...</td>\n",
       "    </tr>\n",
       "    <tr>\n",
       "      <th>664</th>\n",
       "      <td>2025-05-11 20:00:00+00:00</td>\n",
       "      <td>51.98</td>\n",
       "      <td>111.98</td>\n",
       "      <td>51.98</td>\n",
       "    </tr>\n",
       "    <tr>\n",
       "      <th>668</th>\n",
       "      <td>2025-05-11 21:00:00+00:00</td>\n",
       "      <td>63.00</td>\n",
       "      <td>149.40</td>\n",
       "      <td>63.00</td>\n",
       "    </tr>\n",
       "    <tr>\n",
       "      <th>669</th>\n",
       "      <td>2025-05-11 21:15:00+00:00</td>\n",
       "      <td>60.57</td>\n",
       "      <td>101.70</td>\n",
       "      <td>60.57</td>\n",
       "    </tr>\n",
       "    <tr>\n",
       "      <th>670</th>\n",
       "      <td>2025-05-11 21:30:00+00:00</td>\n",
       "      <td>60.12</td>\n",
       "      <td>111.00</td>\n",
       "      <td>60.12</td>\n",
       "    </tr>\n",
       "    <tr>\n",
       "      <th>671</th>\n",
       "      <td>2025-05-11 21:45:00+00:00</td>\n",
       "      <td>35.00</td>\n",
       "      <td>78.56</td>\n",
       "      <td>35.00</td>\n",
       "    </tr>\n",
       "  </tbody>\n",
       "</table>\n",
       "<p>131 rows × 4 columns</p>\n",
       "</div>"
      ],
      "text/plain": [
       "           START_DATETIME_UTC  IMBALANCE_LONG_EUR_MWH  \\\n",
       "8   2025-05-05 00:00:00+00:00                   65.50   \n",
       "20  2025-05-05 03:00:00+00:00                   57.08   \n",
       "40  2025-05-05 08:00:00+00:00                  -16.35   \n",
       "52  2025-05-05 11:00:00+00:00                   16.98   \n",
       "53  2025-05-05 11:15:00+00:00                   42.29   \n",
       "..                        ...                     ...   \n",
       "664 2025-05-11 20:00:00+00:00                   51.98   \n",
       "668 2025-05-11 21:00:00+00:00                   63.00   \n",
       "669 2025-05-11 21:15:00+00:00                   60.57   \n",
       "670 2025-05-11 21:30:00+00:00                   60.12   \n",
       "671 2025-05-11 21:45:00+00:00                   35.00   \n",
       "\n",
       "     IMBALANCE_SHORT_EUR_MWH  IMBALANCE_SELLING_PRICE  \n",
       "8                      84.00                    65.50  \n",
       "20                     78.56                    57.08  \n",
       "40                     86.36                   -16.35  \n",
       "52                     42.29                    16.98  \n",
       "53                     81.77                    42.29  \n",
       "..                       ...                      ...  \n",
       "664                   111.98                    51.98  \n",
       "668                   149.40                    63.00  \n",
       "669                   101.70                    60.57  \n",
       "670                   111.00                    60.12  \n",
       "671                    78.56                    35.00  \n",
       "\n",
       "[131 rows x 4 columns]"
      ]
     },
     "execution_count": 26,
     "metadata": {},
     "output_type": "execute_result"
    }
   ],
   "source": [
    "imbalance[imbalance['IMBALANCE_LONG_EUR_MWH'] != imbalance['IMBALANCE_SHORT_EUR_MWH']]"
   ]
  },
  {
   "cell_type": "code",
   "execution_count": null,
   "id": "779a06ca",
   "metadata": {},
   "outputs": [],
   "source": [
    "# check if in all ptus with dual pricing the short price is higher than the long price\n",
    "# this matters for how objective function should be formulated if you want to implement\n",
    "# worst case scenario: in case of dual pricing you get the worst price\n",
    "\n",
    "S = imbalance[\"IMBALANCE_SHORT_EUR_MWH\"]\n",
    "L = imbalance[\"IMBALANCE_LONG_EUR_MWH\"]\n",
    "\n",
    "dual = S.ne(L)\n",
    "print(\"dual PTUs:\", dual.sum())\n",
    "\n",
    "# Are all dual windows S >= L?\n",
    "print(\"all dual have short >= long? \", bool((S[dual] >= L[dual]).all()))"
   ]
  }
 ],
 "metadata": {
  "kernelspec": {
   "display_name": "battery-opt",
   "language": "python",
   "name": "python3"
  },
  "language_info": {
   "codemirror_mode": {
    "name": "ipython",
    "version": 3
   },
   "file_extension": ".py",
   "mimetype": "text/x-python",
   "name": "python",
   "nbconvert_exporter": "python",
   "pygments_lexer": "ipython3",
   "version": "3.10.18"
  }
 },
 "nbformat": 4,
 "nbformat_minor": 5
}
